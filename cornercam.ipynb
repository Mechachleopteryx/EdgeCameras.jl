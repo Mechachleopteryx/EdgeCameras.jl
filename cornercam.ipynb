{
 "cells": [
  {
   "cell_type": "code",
   "execution_count": null,
   "metadata": {
    "collapsed": true
   },
   "outputs": [],
   "source": [
    "using Revise"
   ]
  },
  {
   "cell_type": "code",
   "execution_count": null,
   "metadata": {
    "collapsed": true
   },
   "outputs": [],
   "source": [
    "push!(LOAD_PATH, \".\");"
   ]
  },
  {
   "cell_type": "code",
   "execution_count": null,
   "metadata": {},
   "outputs": [],
   "source": [
    "using Images\n",
    "using VideoIO: openvideo\n",
    "using ImageView: imshow\n",
    "using StaticArrays: SVector, SMatrix\n",
    "using CoordinateTransformations\n",
    "using Base.Test\n",
    "using BenchmarkTools\n",
    "using Interact\n",
    "using Interpolations\n",
    "using Unitful"
   ]
  },
  {
   "cell_type": "markdown",
   "metadata": {},
   "source": [
    "usable motion from 3s to 20s"
   ]
  },
  {
   "cell_type": "code",
   "execution_count": null,
   "metadata": {},
   "outputs": [],
   "source": [
    "import Cornercam\n",
    "reload(\"Cornercam\")"
   ]
  },
  {
   "cell_type": "code",
   "execution_count": null,
   "metadata": {},
   "outputs": [],
   "source": [
    "target_size = (30, 50)"
   ]
  },
  {
   "cell_type": "code",
   "execution_count": null,
   "metadata": {},
   "outputs": [],
   "source": [
    "video = VideoIO.openvideo(\"DSCF7139.MOV\")"
   ]
  },
  {
   "cell_type": "code",
   "execution_count": null,
   "metadata": {},
   "outputs": [],
   "source": [
    "background = Cornercam.mean_frame(video, (10u\"s\", 12u\"s\"))\n",
    "save(\"background.png\", background)\n",
    "background"
   ]
  },
  {
   "cell_type": "code",
   "execution_count": null,
   "metadata": {},
   "outputs": [],
   "source": [
    "original_corners = SVector{2, Int}[[236, 404], \n",
    "    [207, 1188], \n",
    "    [694, 1276], \n",
    "    [696, 340]]\n",
    "\n",
    "desired_corners = SVector{2, Int}[[1, 1], \n",
    "    [0, target_size[2]-1],\n",
    "    [target_size[1]-1, target_size[2]-1],\n",
    "    [target_size[1]-1, 0]]"
   ]
  },
  {
   "cell_type": "code",
   "execution_count": null,
   "metadata": {},
   "outputs": [],
   "source": [
    "H = Cornercam.rectify(desired_corners, original_corners)\n",
    "@test all((H.(desired_corners) .≈ original_corners))"
   ]
  },
  {
   "cell_type": "code",
   "execution_count": null,
   "metadata": {},
   "outputs": [],
   "source": [
    "samples = Cornercam.polar_samples(\n",
    "    linspace(0, π/2, 200),\n",
    "    linspace(0.01, 30, 50)\n",
    ");\n",
    "\n",
    "θs = linspace(0, π/2, 200)\n",
    "σ = 0.085\n",
    "params = Cornercam.Params(θs, samples, σ)\n",
    "cam = Cornercam.CornerCamera(video, H, background, params)"
   ]
  },
  {
   "cell_type": "code",
   "execution_count": null,
   "metadata": {},
   "outputs": [],
   "source": [
    "Cornercam.show_samples(cam)"
   ]
  },
  {
   "cell_type": "code",
   "execution_count": null,
   "metadata": {
    "collapsed": true
   },
   "outputs": [],
   "source": [
    "A = Cornercam.visibility_gain(samples, θs);"
   ]
  },
  {
   "cell_type": "code",
   "execution_count": null,
   "metadata": {},
   "outputs": [],
   "source": [
    "λ = sqrt(2.7)\n",
    "gain = Cornercam.cornercam_gain(A, σ, λ);"
   ]
  },
  {
   "cell_type": "code",
   "execution_count": null,
   "metadata": {},
   "outputs": [],
   "source": [
    "function sample(im, samples, H)\n",
    "    itp = interpolate(imfilter(im, Kernel.gaussian(5)), BSpline(Linear()), OnGrid())\n",
    "    [itp[Tuple(H(s))...] for s in samples]\n",
    "end"
   ]
  },
  {
   "cell_type": "code",
   "execution_count": null,
   "metadata": {},
   "outputs": [],
   "source": [
    "function imnormal(im)\n",
    "    lb = minimum(x -> min(red(x), green(x), blue(x)), im)\n",
    "    ub = maximum(x -> max(red(x), green(x), blue(x)), im)\n",
    "    (im .- RGB(lb, lb, lb)) ./ (ub - lb)\n",
    "end"
   ]
  },
  {
   "cell_type": "code",
   "execution_count": null,
   "metadata": {},
   "outputs": [],
   "source": [
    "background_samples = sample(background, samples, H)"
   ]
  },
  {
   "cell_type": "code",
   "execution_count": null,
   "metadata": {},
   "outputs": [],
   "source": [
    "seek(video, 4.0)\n",
    "buf = read(video)\n",
    "\n",
    "trace = hcat(map(1:40) do i\n",
    "        for i in 1:6\n",
    "            read!(video, buf)\n",
    "        end\n",
    "        pixels = sample(buf, samples, H)\n",
    "        pixels .-= background_samples\n",
    "        y = reshape(pixels, :)\n",
    "        Lvx =  gain *  y\n",
    "        Lv = Lvx[1]\n",
    "        x = Lvx[2:end]\n",
    "        x\n",
    "        end...)"
   ]
  },
  {
   "cell_type": "code",
   "execution_count": null,
   "metadata": {},
   "outputs": [],
   "source": [
    "imnormal(trace)"
   ]
  },
  {
   "cell_type": "code",
   "execution_count": null,
   "metadata": {
    "collapsed": true
   },
   "outputs": [],
   "source": []
  }
 ],
 "metadata": {
  "kernelspec": {
   "display_name": "Julia 0.6.1",
   "language": "julia",
   "name": "julia-0.6"
  },
  "language_info": {
   "file_extension": ".jl",
   "mimetype": "application/julia",
   "name": "julia",
   "version": "0.6.1"
  }
 },
 "nbformat": 4,
 "nbformat_minor": 2
}
