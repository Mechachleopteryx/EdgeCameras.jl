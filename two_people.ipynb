{
 "cells": [
  {
   "cell_type": "code",
   "execution_count": null,
   "metadata": {},
   "outputs": [],
   "source": [
    "using Unitful\n",
    "using AxisArrays\n",
    "using Images: imadjustintensity\n",
    "using VideoIO: openvideo\n",
    "\n",
    "import EdgeCameras\n",
    "const EC = EdgeCameras"
   ]
  },
  {
   "cell_type": "code",
   "execution_count": null,
   "metadata": {
    "scrolled": false
   },
   "outputs": [],
   "source": [
    "video = openvideo(\"example_videos/indoors/loc1_two_people_walking.MOV\")\n",
    "corners = [[149, 614], \n",
    "    [458, 1031], \n",
    "    [713, 700], \n",
    "    [384, 239]]\n",
    "background_im = EC.background(video, (1u\"s\", 20u\"s\", 10))\n",
    "source = EC.StaticSource(video, corners, background_im)"
   ]
  },
  {
   "cell_type": "code",
   "execution_count": null,
   "metadata": {},
   "outputs": [],
   "source": [
    "params = EC.Params()\n",
    "cam = EC.EdgeCamera(source, params)"
   ]
  },
  {
   "cell_type": "code",
   "execution_count": null,
   "metadata": {},
   "outputs": [],
   "source": [
    "duration = @elapsed(\n",
    "    @time trace = EC.reconstruct(cam, (0u\"s\", 30u\"s\"), 10/u\"s\")\n",
    "    )\n",
    "println(\"Framerate: $(size(trace, 2) / duration)\")"
   ]
  },
  {
   "cell_type": "code",
   "execution_count": null,
   "metadata": {},
   "outputs": [],
   "source": [
    "imadjustintensity(trace)"
   ]
  },
  {
   "cell_type": "code",
   "execution_count": null,
   "metadata": {},
   "outputs": [],
   "source": [
    "a = imadjustintensity(trace)\n",
    "m = mean(a)\n",
    "2 .* (a .- m) .+ m"
   ]
  },
  {
   "cell_type": "code",
   "execution_count": null,
   "metadata": {},
   "outputs": [],
   "source": [
    "imadjustintensity(trace)[0.2..π/4, 13u\"s\"..19u\"s\"]"
   ]
  },
  {
   "cell_type": "code",
   "execution_count": null,
   "metadata": {
    "collapsed": true
   },
   "outputs": [],
   "source": []
  }
 ],
 "metadata": {
  "kernelspec": {
   "display_name": "Julia 0.6.1",
   "language": "julia",
   "name": "julia-0.6"
  },
  "language_info": {
   "file_extension": ".jl",
   "mimetype": "application/julia",
   "name": "julia",
   "version": "0.6.1"
  }
 },
 "nbformat": 4,
 "nbformat_minor": 2
}
