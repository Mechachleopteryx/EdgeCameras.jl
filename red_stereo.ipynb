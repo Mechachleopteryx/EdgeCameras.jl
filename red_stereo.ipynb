{
 "cells": [
  {
   "cell_type": "code",
   "execution_count": null,
   "metadata": {
    "collapsed": true
   },
   "outputs": [],
   "source": [
    "using Revise"
   ]
  },
  {
   "cell_type": "code",
   "execution_count": null,
   "metadata": {
    "collapsed": true
   },
   "outputs": [],
   "source": [
    "using Unitful\n",
    "using AxisArrays\n",
    "using Images: imadjustintensity\n",
    "using Interpolations\n",
    "using Plots\n",
    "using StaticArrays: SVector\n",
    "using VideoIO: openvideo\n",
    "\n",
    "import CornerCameras\n",
    "const CC = CornerCameras"
   ]
  },
  {
   "cell_type": "code",
   "execution_count": null,
   "metadata": {
    "collapsed": true
   },
   "outputs": [],
   "source": [
    "video = openvideo(\"example_videos/stereo/red_person_walking_circles.MP4\")\n",
    "background_im = CC.background(video, (10u\"s\", 20u\"s\"), 10)"
   ]
  },
  {
   "cell_type": "code",
   "execution_count": null,
   "metadata": {
    "collapsed": true
   },
   "outputs": [],
   "source": [
    "time_range = (0u\"s\", 30u\"s\")\n",
    "reconstruction_framerate = 10/u\"s\"\n",
    "λ = sqrt(2.7)\n",
    "params = CC.Params();"
   ]
  },
  {
   "cell_type": "code",
   "execution_count": null,
   "metadata": {
    "collapsed": true
   },
   "outputs": [],
   "source": [
    "corners1 = [[131, 282], \n",
    "    [210, 979],\n",
    "    [855, 784], \n",
    "    [680, 4], \n",
    "]\n",
    "source1 = CC.StaticSource(video, corners1, background_im, λ)"
   ]
  },
  {
   "cell_type": "code",
   "execution_count": null,
   "metadata": {
    "collapsed": true
   },
   "outputs": [],
   "source": [
    "cam1 = CC.CornerCamera(source1, params)"
   ]
  },
  {
   "cell_type": "code",
   "execution_count": null,
   "metadata": {
    "collapsed": true
   },
   "outputs": [],
   "source": [
    "trace1 = CC.reconstruct(cam1, time_range, reconstruction_framerate)\n",
    "imadjustintensity(trace1)"
   ]
  },
  {
   "cell_type": "code",
   "execution_count": null,
   "metadata": {
    "collapsed": true
   },
   "outputs": [],
   "source": [
    "path1 = [\n",
    "    [114, 1],\n",
    "    [146, 13],\n",
    "    [14, 30],\n",
    "    [123, 67],\n",
    "    [124, 78],\n",
    "    [25, 99],\n",
    "    [127, 144],\n",
    "    [126, 156],\n",
    "    [27, 183],\n",
    "    [124, 224],\n",
    "    [124, 239],\n",
    "    [30, 269],\n",
    "    [89, 299]\n",
    "    ]\n",
    "\n",
    "path1 = extrapolate(interpolate(\n",
    "    (last.(path1),),\n",
    "    first.(path1),\n",
    "        Gridded(Linear())),\n",
    "    Flat()\n",
    "    );\n",
    "\n",
    "im = imadjustintensity(trace1)\n",
    "for i in 1:size(trace1, 2)\n",
    "    im[round(Int, path1[i]), i] = RGB(1., 1, 1)\n",
    "end\n",
    "im"
   ]
  },
  {
   "cell_type": "code",
   "execution_count": null,
   "metadata": {
    "collapsed": true
   },
   "outputs": [],
   "source": [
    "corners2 = [\n",
    "    [477, 1522],\n",
    "    [794, 1483],\n",
    "    [856, 1873],\n",
    "    [521, 1875]\n",
    "]\n",
    "source2 = CC.StaticSource(video, corners2, background_im, λ)"
   ]
  },
  {
   "cell_type": "code",
   "execution_count": null,
   "metadata": {
    "collapsed": true
   },
   "outputs": [],
   "source": [
    "cam2 = CC.CornerCamera(source2, params)"
   ]
  },
  {
   "cell_type": "code",
   "execution_count": null,
   "metadata": {
    "collapsed": true
   },
   "outputs": [],
   "source": [
    "trace2 = CC.reconstruct(cam2, time_range, reconstruction_framerate)\n",
    "imadjustintensity(trace2)"
   ]
  },
  {
   "cell_type": "code",
   "execution_count": null,
   "metadata": {
    "collapsed": true
   },
   "outputs": [],
   "source": [
    "path2 = [\n",
    "    [63, 4],\n",
    "    [40, 14],\n",
    "    [107, 34],\n",
    "    [71, 53],\n",
    "    [55, 67],\n",
    "    [50, 81],\n",
    "    [77, 96],\n",
    "    [93, 100],\n",
    "    [97, 110],\n",
    "    [54, 144],\n",
    "    [54, 163],\n",
    "    [102, 185],\n",
    "    [53, 227],\n",
    "    [53, 244],\n",
    "    [102, 273],\n",
    "    [71, 298]\n",
    "    ]\n",
    "\n",
    "path2 = extrapolate(interpolate(\n",
    "    (last.(path2),),\n",
    "    first.(path2),\n",
    "        Gridded(Linear())),\n",
    "    Flat()\n",
    "    );\n",
    "\n",
    "\n",
    "im = imadjustintensity(trace2)\n",
    "for i in 1:size(trace2, 2)\n",
    "    im[round(Int, path2[i]), i] = RGB(1., 0, 0)\n",
    "end\n",
    "im"
   ]
  },
  {
   "cell_type": "code",
   "execution_count": null,
   "metadata": {
    "collapsed": true
   },
   "outputs": [],
   "source": [
    "B = 1.0\n",
    "positions = map(1:size(trace1, 2)) do i\n",
    "    θ1 = π/2 * path1[i] / size(trace1, 1) - π/2\n",
    "    θ2 = π/2 * path2[i] / size(trace2, 1)\n",
    "    Pz = B / (cot(θ1) + cot(θ2))\n",
    "    Px = Pz * cot(θ1)\n",
    "    SVector(Px, Pz)\n",
    "end;"
   ]
  },
  {
   "cell_type": "code",
   "execution_count": null,
   "metadata": {
    "collapsed": true
   },
   "outputs": [],
   "source": [
    "plt = plot(first.(positions), \n",
    "           last.(positions), \n",
    "           linewidth=3, \n",
    "           color=1:length(positions),\n",
    "           legend=false,\n",
    "           xlabel=\"X-position\",\n",
    "           ylabel=\"Z-position\",\n",
    "           title=\"Inferred Position over Time (Scene B)\")"
   ]
  },
  {
   "cell_type": "code",
   "execution_count": null,
   "metadata": {
    "collapsed": true
   },
   "outputs": [],
   "source": []
  }
 ],
 "metadata": {
  "kernelspec": {
   "display_name": "Julia 0.6.1",
   "language": "julia",
   "name": "julia-0.6"
  },
  "language_info": {
   "file_extension": ".jl",
   "mimetype": "application/julia",
   "name": "julia",
   "version": "0.6.1"
  }
 },
 "nbformat": 4,
 "nbformat_minor": 2
}
