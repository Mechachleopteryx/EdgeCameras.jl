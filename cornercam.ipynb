{
 "cells": [
  {
   "cell_type": "code",
   "execution_count": null,
   "metadata": {
    "collapsed": true
   },
   "outputs": [],
   "source": [
    "using Revise"
   ]
  },
  {
   "cell_type": "code",
   "execution_count": null,
   "metadata": {
    "collapsed": true
   },
   "outputs": [],
   "source": [
    "push!(LOAD_PATH, \".\");"
   ]
  },
  {
   "cell_type": "code",
   "execution_count": null,
   "metadata": {},
   "outputs": [],
   "source": [
    "using Images\n",
    "using VideoIO: openvideo\n",
    "using ImageView: imshow\n",
    "using StaticArrays: SVector, SMatrix\n",
    "using CoordinateTransformations\n",
    "using Base.Test\n",
    "using BenchmarkTools\n",
    "using Interact\n",
    "using Interpolations\n",
    "using Unitful"
   ]
  },
  {
   "cell_type": "markdown",
   "metadata": {},
   "source": [
    "usable motion from 3s to 20s"
   ]
  },
  {
   "cell_type": "code",
   "execution_count": null,
   "metadata": {},
   "outputs": [],
   "source": [
    "import Cornercam\n",
    "reload(\"Cornercam\")"
   ]
  },
  {
   "cell_type": "code",
   "execution_count": null,
   "metadata": {},
   "outputs": [],
   "source": [
    "video = VideoIO.openvideo(\"DSCF7139.MOV\")\n",
    "source = Cornercam.TransformedVideo(video) do frame\n",
    "    restrict(restrict(frame[200:end, 330:955]))\n",
    "end;"
   ]
  },
  {
   "cell_type": "code",
   "execution_count": null,
   "metadata": {},
   "outputs": [],
   "source": [
    "background = mean(Cornercam.frames_between(source, (10u\"s\", 12u\"s\")))"
   ]
  },
  {
   "cell_type": "code",
   "execution_count": null,
   "metadata": {},
   "outputs": [],
   "source": [
    "original_corners = [[10, 22], \n",
    "    [12, 148], \n",
    "    [131, 155], \n",
    "    [123, 5]]\n",
    "\n",
    "desired_corners = [[0, 0], \n",
    "    [0, 1],\n",
    "    [1, 1],\n",
    "    [1, 0]]"
   ]
  },
  {
   "cell_type": "code",
   "execution_count": null,
   "metadata": {},
   "outputs": [],
   "source": [
    "H = Cornercam.rectify(desired_corners, original_corners)\n",
    "@test all((H.(desired_corners) .≈ original_corners))"
   ]
  },
  {
   "cell_type": "code",
   "execution_count": null,
   "metadata": {},
   "outputs": [],
   "source": [
    "samples = Cornercam.polar_samples(\n",
    "    linspace(0, π/2, 200),\n",
    "    linspace(0.01, 1, 50)\n",
    ");\n",
    "\n",
    "θs = linspace(0, π/2, 200)\n",
    "σ = 0.085\n",
    "params = Cornercam.Params(θs, samples, σ)\n",
    "cam = Cornercam.CornerCamera(source, H, background, params);"
   ]
  },
  {
   "cell_type": "code",
   "execution_count": null,
   "metadata": {},
   "outputs": [],
   "source": [
    "Cornercam.show_samples(cam)"
   ]
  },
  {
   "cell_type": "code",
   "execution_count": null,
   "metadata": {
    "collapsed": true
   },
   "outputs": [],
   "source": [
    "A = Cornercam.visibility_gain(samples, θs);"
   ]
  },
  {
   "cell_type": "code",
   "execution_count": null,
   "metadata": {},
   "outputs": [],
   "source": [
    "λ = sqrt(2.7)\n",
    "gain = Cornercam.cornercam_gain(A, σ, λ);"
   ]
  },
  {
   "cell_type": "code",
   "execution_count": null,
   "metadata": {},
   "outputs": [],
   "source": [
    "background_samples = Cornercam.sample(background, samples, H)"
   ]
  },
  {
   "cell_type": "code",
   "execution_count": null,
   "metadata": {},
   "outputs": [],
   "source": [
    "seek(source, 4.0)\n",
    "buf = read(source)\n",
    "\n",
    "trace = hcat(map(1:160) do i\n",
    "        for i in 1:6\n",
    "            read!(source, buf)\n",
    "        end\n",
    "        pixels = Cornercam.sample(buf, samples, H)\n",
    "        pixels .-= background_samples\n",
    "        y = reshape(pixels, :)\n",
    "        Lvx =  gain *  y\n",
    "        x = Lvx[2:end]\n",
    "        x\n",
    "        end...)"
   ]
  },
  {
   "cell_type": "code",
   "execution_count": null,
   "metadata": {},
   "outputs": [],
   "source": [
    "Cornercam.imnormal(trace)"
   ]
  },
  {
   "cell_type": "code",
   "execution_count": null,
   "metadata": {
    "collapsed": true
   },
   "outputs": [],
   "source": []
  },
  {
   "cell_type": "code",
   "execution_count": null,
   "metadata": {
    "collapsed": true
   },
   "outputs": [],
   "source": []
  }
 ],
 "metadata": {
  "kernelspec": {
   "display_name": "Julia 0.6.1",
   "language": "julia",
   "name": "julia-0.6"
  },
  "language_info": {
   "file_extension": ".jl",
   "mimetype": "application/julia",
   "name": "julia",
   "version": "0.6.1"
  }
 },
 "nbformat": 4,
 "nbformat_minor": 2
}
