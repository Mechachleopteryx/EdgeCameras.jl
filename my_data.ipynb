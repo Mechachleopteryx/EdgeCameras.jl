{
 "cells": [
  {
   "cell_type": "code",
   "execution_count": null,
   "metadata": {},
   "outputs": [],
   "source": [
    "using Unitful\n",
    "using AxisArrays\n",
    "using Images: imadjustintensity\n",
    "using VideoIO: openvideo\n",
    "\n",
    "import EdgeCameras\n",
    "const EC = EdgeCameras"
   ]
  },
  {
   "cell_type": "code",
   "execution_count": null,
   "metadata": {
    "scrolled": false
   },
   "outputs": [],
   "source": [
    "video = openvideo(\"data/scene1/DSCF7139.MOV\")\n",
    "corners = [[236, 404], \n",
    "    [230, 920], \n",
    "    [719, 948], \n",
    "    [696, 340]]\n",
    "background_im = EC.background(video, (10u\"s\", 12u\"s\"))\n",
    "source = EC.StaticSource(video, corners, background_im)"
   ]
  },
  {
   "cell_type": "code",
   "execution_count": null,
   "metadata": {},
   "outputs": [],
   "source": [
    "params = EC.Params()\n",
    "cam = EC.EdgeCamera(source, params)"
   ]
  },
  {
   "cell_type": "code",
   "execution_count": null,
   "metadata": {},
   "outputs": [],
   "source": [
    "duration = @elapsed(\n",
    "    @time trace = EC.reconstruct(cam, (4u\"s\", 20u\"s\"), 30/u\"s\")\n",
    "    )\n",
    "println(\"Framerate: $(size(trace, 2) / duration)\")"
   ]
  },
  {
   "cell_type": "code",
   "execution_count": null,
   "metadata": {},
   "outputs": [],
   "source": [
    "imadjustintensity(trace)"
   ]
  },
  {
   "cell_type": "code",
   "execution_count": null,
   "metadata": {},
   "outputs": [],
   "source": [
    "imadjustintensity(trace)[:, 11u\"s\"..17u\"s\"]"
   ]
  },
  {
   "cell_type": "code",
   "execution_count": null,
   "metadata": {
    "collapsed": true
   },
   "outputs": [],
   "source": []
  }
 ],
 "metadata": {
  "kernelspec": {
   "display_name": "Julia 0.6.1",
   "language": "julia",
   "name": "julia-0.6"
  },
  "language_info": {
   "file_extension": ".jl",
   "mimetype": "application/julia",
   "name": "julia",
   "version": "0.6.1"
  }
 },
 "nbformat": 4,
 "nbformat_minor": 2
}
